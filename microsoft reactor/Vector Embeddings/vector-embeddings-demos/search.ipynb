{
 "cells": [
  {
   "cell_type": "markdown",
   "metadata": {},
   "source": [
    "# Vector search\n"
   ]
  },
  {
   "cell_type": "code",
   "execution_count": 1,
   "metadata": {},
   "outputs": [],
   "source": [
    "import json\n",
    "\n",
    "with open('embeddings/movies_text-embedding-3-small-1536.json') as f:\n",
    "    movies = json.load(f)\n",
    "\n",
    "MODEL_DIMENSIONS = 1536 # Must match the dimension of the embeddings"
   ]
  },
  {
   "cell_type": "markdown",
   "metadata": {},
   "source": [
    "## Set up the OpenAI client with GitHub Models\n",
    "\n",
    "Run the cell below if you are using OpenAI with GitHub Models. If you're running this in GitHub Codespaces, the GITHUB_TOKEN environment variable will already be set for you. If you're running this locally, make sure to set the GITHUB_TOKEN environment variable with a Personal Access Token (PAT) from GitHub. "
   ]
  },
  {
   "cell_type": "code",
   "execution_count": 2,
   "metadata": {},
   "outputs": [],
   "source": [
    "import os\n",
    "import openai\n",
    "\n",
    "openai_client = openai.OpenAI(\n",
    "    base_url=\"https://models.inference.ai.azure.com\",\n",
    "    api_key=os.environ[\"GITHUB_TOKEN\"]\n",
    ")\n",
    "MODEL_NAME = \"text-embedding-3-small\""
   ]
  },
  {
   "cell_type": "markdown",
   "metadata": {},
   "source": [
    "## Set up the AzureOpenAI client\n",
    "\n",
    "Run the cell below if you are using Azure OpenAI with keyless auth and have already set up a .env file with the required variables."
   ]
  },
  {
   "cell_type": "code",
   "execution_count": 5,
   "metadata": {},
   "outputs": [],
   "source": [
    "import os\n",
    "\n",
    "from azure.identity import AzureCliCredential, get_bearer_token_provider\n",
    "import dotenv\n",
    "import openai\n",
    "\n",
    "dotenv.load_dotenv()\n",
    "\n",
    "azure_credential = AzureCliCredential()\n",
    "token_provider = get_bearer_token_provider(azure_credential, \"https://cognitiveservices.azure.com/.default\")\n",
    "openai_client = openai.AzureOpenAI(\n",
    "    api_version=\"2024-10-21\",\n",
    "    azure_endpoint=os.getenv(\"AZURE_OPENAI_ENDPOINT\"),\n",
    "    azure_ad_token_provider=token_provider,\n",
    ")\n",
    "MODEL_NAME = os.getenv(\"AZURE_OPENAI_EMBEDDING_DEPLOYMENT\")"
   ]
  },
  {
   "cell_type": "markdown",
   "metadata": {},
   "source": [
    "## Define function to compute embedding"
   ]
  },
  {
   "cell_type": "code",
   "execution_count": 3,
   "metadata": {},
   "outputs": [],
   "source": [
    "def get_embedding(text):\n",
    "    embeddings_response = openai_client.embeddings.create(\n",
    "        model=MODEL_NAME,\n",
    "        dimensions=MODEL_DIMENSIONS,\n",
    "        input=text,\n",
    "    )\n",
    "    return embeddings_response.data[0].embedding"
   ]
  },
  {
   "cell_type": "markdown",
   "metadata": {},
   "source": [
    "## Search vector embeddings"
   ]
  },
  {
   "cell_type": "code",
   "execution_count": 4,
   "metadata": {},
   "outputs": [
    {
     "data": {
      "text/html": [
       "<div>\n",
       "<style scoped>\n",
       "    .dataframe tbody tr th:only-of-type {\n",
       "        vertical-align: middle;\n",
       "    }\n",
       "\n",
       "    .dataframe tbody tr th {\n",
       "        vertical-align: top;\n",
       "    }\n",
       "\n",
       "    .dataframe thead th {\n",
       "        text-align: right;\n",
       "    }\n",
       "</style>\n",
       "<table border=\"1\" class=\"dataframe\">\n",
       "  <thead>\n",
       "    <tr style=\"text-align: right;\">\n",
       "      <th></th>\n",
       "      <th>movie</th>\n",
       "      <th>similarity</th>\n",
       "    </tr>\n",
       "  </thead>\n",
       "  <tbody>\n",
       "    <tr>\n",
       "      <th>0</th>\n",
       "      <td>The Aristocats</td>\n",
       "      <td>0.518</td>\n",
       "    </tr>\n",
       "    <tr>\n",
       "      <th>1</th>\n",
       "      <td>The Tigger Movie</td>\n",
       "      <td>0.500</td>\n",
       "    </tr>\n",
       "    <tr>\n",
       "      <th>2</th>\n",
       "      <td>Ratatouille</td>\n",
       "      <td>0.488</td>\n",
       "    </tr>\n",
       "    <tr>\n",
       "      <th>3</th>\n",
       "      <td>Cars 2</td>\n",
       "      <td>0.465</td>\n",
       "    </tr>\n",
       "    <tr>\n",
       "      <th>4</th>\n",
       "      <td>Pooh's Heffalump Movie</td>\n",
       "      <td>0.459</td>\n",
       "    </tr>\n",
       "    <tr>\n",
       "      <th>5</th>\n",
       "      <td>The Fox and the Hound</td>\n",
       "      <td>0.458</td>\n",
       "    </tr>\n",
       "    <tr>\n",
       "      <th>6</th>\n",
       "      <td>African Cats</td>\n",
       "      <td>0.456</td>\n",
       "    </tr>\n",
       "    <tr>\n",
       "      <th>7</th>\n",
       "      <td>101 Dalmatians</td>\n",
       "      <td>0.456</td>\n",
       "    </tr>\n",
       "    <tr>\n",
       "      <th>8</th>\n",
       "      <td>Teacher's Pet: The Movie</td>\n",
       "      <td>0.454</td>\n",
       "    </tr>\n",
       "    <tr>\n",
       "      <th>9</th>\n",
       "      <td>A Goofy Movie</td>\n",
       "      <td>0.454</td>\n",
       "    </tr>\n",
       "  </tbody>\n",
       "</table>\n",
       "</div>"
      ],
      "text/plain": [
       "                      movie  similarity\n",
       "0            The Aristocats       0.518\n",
       "1          The Tigger Movie       0.500\n",
       "2               Ratatouille       0.488\n",
       "3                    Cars 2       0.465\n",
       "4    Pooh's Heffalump Movie       0.459\n",
       "5     The Fox and the Hound       0.458\n",
       "6              African Cats       0.456\n",
       "7            101 Dalmatians       0.456\n",
       "8  Teacher's Pet: The Movie       0.454\n",
       "9             A Goofy Movie       0.454"
      ]
     },
     "execution_count": 4,
     "metadata": {},
     "output_type": "execute_result"
    }
   ],
   "source": [
    "import pandas as pd\n",
    "\n",
    "def cosine_similarity(v1, v2):\n",
    "    dot_product = sum([a * b for a, b in zip(v1, v2)])\n",
    "    magnitude = (sum([a**2 for a in v1]) * sum([a**2 for a in v2])) ** 0.5\n",
    "    return dot_product / magnitude\n",
    "\n",
    "def exhaustive_search(query_vector, vectors):\n",
    "    similarities = []\n",
    "    for title, vector in vectors.items():\n",
    "        similarity = cosine_similarity(query_vector, vector)\n",
    "        similarities.append((title, similarity))\n",
    "    similarities.sort(key=lambda x: x[1], reverse=True)\n",
    "    return similarities\n",
    "\n",
    "new_vector = get_embedding(\"a toddler-friendly movie about cats\")\n",
    "similarities = exhaustive_search(new_vector, movies)\n",
    "most_similar = similarities[0:10]\n",
    "similar_movies = [(movie, round(similarity, 3)) for movie, similarity in most_similar]\n",
    "\n",
    "pd.DataFrame(similar_movies, columns=['movie', 'similarity'])"
   ]
  },
  {
   "cell_type": "markdown",
   "metadata": {},
   "source": [
    "## ANN search: HNSW\n"
   ]
  },
  {
   "cell_type": "code",
   "execution_count": 5,
   "metadata": {},
   "outputs": [
    {
     "name": "stdout",
     "output_type": "stream",
     "text": [
      "Parameters passed to constructor:  space=cosine, dim=1536\n",
      "Index construction: M=16, ef_construction=200\n",
      "Index size is 573 and index capacity is 573\n",
      "Search speed/quality trade-off parameter: ef=50\n"
     ]
    }
   ],
   "source": [
    "import hnswlib\n",
    "\n",
    "# Declaring index\n",
    "p = hnswlib.Index(space='cosine', dim=1536)\n",
    "\n",
    "# Initializing index - the maximum number of elements should be known beforehand\n",
    "p.init_index(max_elements=len(movies), ef_construction=200, M=16)\n",
    "\n",
    "# Element insertion (can be called several times):\n",
    "vectors = list(movies.values())\n",
    "ids = list([i for i in range(len(vectors))])\n",
    "p.add_items(vectors, ids)\n",
    "\n",
    "# Controlling the recall by setting ef:\n",
    "p.set_ef(50) # ef should always be > k\n",
    "\n",
    "### Index parameters are exposed as class properties:\n",
    "print(f\"Parameters passed to constructor:  space={p.space}, dim={p.dim}\") \n",
    "print(f\"Index construction: M={p.M}, ef_construction={p.ef_construction}\")\n",
    "print(f\"Index size is {p.element_count} and index capacity is {p.max_elements}\")\n",
    "print(f\"Search speed/quality trade-off parameter: ef={p.ef}\")"
   ]
  },
  {
   "cell_type": "code",
   "execution_count": 6,
   "metadata": {},
   "outputs": [
    {
     "data": {
      "text/html": [
       "<div>\n",
       "<style scoped>\n",
       "    .dataframe tbody tr th:only-of-type {\n",
       "        vertical-align: middle;\n",
       "    }\n",
       "\n",
       "    .dataframe tbody tr th {\n",
       "        vertical-align: top;\n",
       "    }\n",
       "\n",
       "    .dataframe thead th {\n",
       "        text-align: right;\n",
       "    }\n",
       "</style>\n",
       "<table border=\"1\" class=\"dataframe\">\n",
       "  <thead>\n",
       "    <tr style=\"text-align: right;\">\n",
       "      <th></th>\n",
       "      <th>movie</th>\n",
       "      <th>similarity</th>\n",
       "    </tr>\n",
       "  </thead>\n",
       "  <tbody>\n",
       "    <tr>\n",
       "      <th>0</th>\n",
       "      <td>The Aristocats</td>\n",
       "      <td>0.518</td>\n",
       "    </tr>\n",
       "    <tr>\n",
       "      <th>1</th>\n",
       "      <td>The Tigger Movie</td>\n",
       "      <td>0.500</td>\n",
       "    </tr>\n",
       "    <tr>\n",
       "      <th>2</th>\n",
       "      <td>Ratatouille</td>\n",
       "      <td>0.488</td>\n",
       "    </tr>\n",
       "    <tr>\n",
       "      <th>3</th>\n",
       "      <td>Cars 2</td>\n",
       "      <td>0.465</td>\n",
       "    </tr>\n",
       "    <tr>\n",
       "      <th>4</th>\n",
       "      <td>Pooh's Heffalump Movie</td>\n",
       "      <td>0.459</td>\n",
       "    </tr>\n",
       "    <tr>\n",
       "      <th>5</th>\n",
       "      <td>The Fox and the Hound</td>\n",
       "      <td>0.458</td>\n",
       "    </tr>\n",
       "    <tr>\n",
       "      <th>6</th>\n",
       "      <td>African Cats</td>\n",
       "      <td>0.456</td>\n",
       "    </tr>\n",
       "    <tr>\n",
       "      <th>7</th>\n",
       "      <td>101 Dalmatians</td>\n",
       "      <td>0.456</td>\n",
       "    </tr>\n",
       "    <tr>\n",
       "      <th>8</th>\n",
       "      <td>Teacher's Pet: The Movie</td>\n",
       "      <td>0.454</td>\n",
       "    </tr>\n",
       "    <tr>\n",
       "      <th>9</th>\n",
       "      <td>A Goofy Movie</td>\n",
       "      <td>0.454</td>\n",
       "    </tr>\n",
       "  </tbody>\n",
       "</table>\n",
       "</div>"
      ],
      "text/plain": [
       "                      movie  similarity\n",
       "0            The Aristocats       0.518\n",
       "1          The Tigger Movie       0.500\n",
       "2               Ratatouille       0.488\n",
       "3                    Cars 2       0.465\n",
       "4    Pooh's Heffalump Movie       0.459\n",
       "5     The Fox and the Hound       0.458\n",
       "6              African Cats       0.456\n",
       "7            101 Dalmatians       0.456\n",
       "8  Teacher's Pet: The Movie       0.454\n",
       "9             A Goofy Movie       0.454"
      ]
     },
     "execution_count": 6,
     "metadata": {},
     "output_type": "execute_result"
    }
   ],
   "source": [
    "# Search the HNSW index\n",
    "new_vector = get_embedding(\"a toddler-friendly movie about cats\")\n",
    "\n",
    "labels, distances = p.knn_query(new_vector, k=10)\n",
    "\n",
    "# match labels to movie titles and print out\n",
    "similar_movies = [(list(movies.keys())[label], round(1 - distance, 3)) for label, distance in zip(labels[0], distances[0])]\n",
    "pd.DataFrame(similar_movies, columns=['movie', 'similarity'])"
   ]
  }
 ],
 "metadata": {
  "kernelspec": {
   "display_name": "Python 3",
   "language": "python",
   "name": "python3"
  },
  "language_info": {
   "codemirror_mode": {
    "name": "ipython",
    "version": 3
   },
   "file_extension": ".py",
   "mimetype": "text/x-python",
   "name": "python",
   "nbconvert_exporter": "python",
   "pygments_lexer": "ipython3",
   "version": "3.12.8"
  }
 },
 "nbformat": 4,
 "nbformat_minor": 2
}
