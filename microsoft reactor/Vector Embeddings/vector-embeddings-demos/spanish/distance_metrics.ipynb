{
 "cells": [
  {
   "cell_type": "markdown",
   "metadata": {},
   "source": [
    "# Métricas de distancia entre vectores\n",
    "\n",
    "Cuatro métricas comunes de distancia entre dos vectores son:\n",
    "\n",
    "1. Distancia euclidiana\n",
    "2. Distancia de Manhattan\n",
    "3. Producto interno\n",
    "4. Distancia del coseno"
   ]
  },
  {
   "cell_type": "markdown",
   "metadata": {},
   "source": [
    "## Vectores vs. vectores unitarios\n",
    "\n",
    "La medida que escojamos puede depender de si estamos comparando vectores o vectores unitarios.\n",
    "\n",
    "Un vector unitario es un vector con una **magnitud** de 1."
   ]
  },
  {
   "cell_type": "code",
   "execution_count": null,
   "metadata": {},
   "outputs": [],
   "source": [
    "import numpy as np\n",
    "\n",
    "vector1 = np.array([1, 2, 3])\n",
    "vector2 = np.array([3, 1, 2])\n",
    "\n",
    "def magnitude(vector):\n",
    "    return sum([a**2 for a in vector]) ** 0.5\n",
    "\n",
    "# Magnitud de los vectores\n",
    "print(np.linalg.norm(vector1))\n",
    "print(magnitude(vector1)) # 3.7416573867739413\n",
    "print(np.linalg.norm(vector2))\n",
    "print(magnitude(vector2))"
   ]
  },
  {
   "cell_type": "code",
   "execution_count": null,
   "metadata": {},
   "outputs": [],
   "source": [
    "# graficamos los dos vectores en un gráfico 3D\n",
    "import matplotlib.pyplot as plt\n",
    "from mpl_toolkits.mplot3d import Axes3D\n",
    "\n",
    "fig = plt.figure()\n",
    "ax = fig.add_subplot(111, projection='3d')\n",
    "ax.quiver(0, 0, 0, vector1[0], vector1[1], vector1[2], color='b', arrow_length_ratio=0.1)\n",
    "ax.quiver(0, 0, 0, vector2[0], vector2[1], vector2[2], color='r', arrow_length_ratio=0.1)\n",
    "\n",
    "ax.set_xlim([0, 4])\n",
    "ax.set_ylim([0, 4])\n",
    "ax.set_zlim([0, 4])\n",
    "\n",
    "plt.show()"
   ]
  },
  {
   "cell_type": "code",
   "execution_count": null,
   "metadata": {},
   "outputs": [],
   "source": [
    "# Normalizamos los vectores\n",
    "v1_unit = vector1 / np.linalg.norm(vector1)\n",
    "v2_unit = vector2 / np.linalg.norm(vector2)\n",
    "print(v1_unit)\n",
    "print(v2_unit)\n",
    "\n",
    "mag_v1_unit = np.linalg.norm(v1_unit)\n",
    "mag_v2_unit = np.linalg.norm(v2_unit)\n",
    "print(mag_v1_unit)\n",
    "print(mag_v2_unit)"
   ]
  },
  {
   "cell_type": "code",
   "execution_count": null,
   "metadata": {},
   "outputs": [],
   "source": [
    "# graficamos los dos vectores en un gráfico 3D\n",
    "fig = plt.figure()\n",
    "ax = fig.add_subplot(111, projection='3d')\n",
    "ax.quiver(0, 0, 0, v1_unit[0], v1_unit[1], v1_unit[2], color='b', arrow_length_ratio=0.1)\n",
    "ax.quiver(0, 0, 0, v2_unit[0], v2_unit[1], v2_unit[2], color='r', arrow_length_ratio=0.1)\n",
    "\n",
    "ax.set_xlim([0, 1])\n",
    "ax.set_ylim([0, 1])\n",
    "ax.set_zlim([0, 1])\n",
    "\n",
    "plt.show()"
   ]
  },
  {
   "cell_type": "markdown",
   "metadata": {},
   "source": [
    "## Distancia euclidiana\n",
    "\n",
    "La distancia euclidiana entre dos vectores $\\bold{x}$ y $\\bold{y}$ se define como:\n",
    "\n",
    "$$\n",
    "\\text{Distancia euclidiana} = \\sqrt{\\sum_{i=1}^{n} (x_i - y_i)^2}\n",
    "$$\n",
    "\n",
    "Es la distancia en línea recta entre dos puntos en el espacio euclidiano."
   ]
  },
  {
   "cell_type": "code",
   "execution_count": null,
   "metadata": {},
   "outputs": [],
   "source": [
    "import matplotlib.pyplot as plt\n",
    "import numpy as np\n",
    "from mpl_toolkits.mplot3d import Axes3D\n",
    "\n",
    "v1 = v1_unit\n",
    "v2 = v2_unit\n",
    "\n",
    "# Calculamos la distancia euclidiana\n",
    "distance = np.sqrt(np.sum((v1 - v2)**2)) # o np.linalg.norm(v1 - v2)\n",
    "distance = magnitude(v1 - v2)\n",
    "\n",
    "# Creamos una nueva figura con un tamaño específico (anchura, altura)\n",
    "fig = plt.figure(figsize=(6, 6))\n",
    "ax = fig.add_subplot(111, projection='3d')\n",
    "\n",
    "# Graficamos los vectores\n",
    "ax.quiver(0, 0, 0, v1[0], v1[1], v1[2], color='b', linestyle=\"dashed\", arrow_length_ratio=0.1)\n",
    "ax.quiver(0, 0, 0, v2[0], v2[1], v2[2], color='r', linestyle=\"dashed\", arrow_length_ratio=0.1)\n",
    "\n",
    "# Dibujamos una línea entre los vectores\n",
    "ax.plot([v1[0], v2[0]], [v1[1], v2[1]], [v1[2], v2[2]], 'g', linewidth=3)\n",
    "\n",
    "# Añadimos etiquetas para los vectores\n",
    "ax.text(v1[0], v1[1], v1[2], 'v1', fontsize=12, ha='right')\n",
    "ax.text(v2[0], v2[1], v2[2], 'v2', fontsize=12, ha='right')\n",
    "\n",
    "ax.set_xlim([0, 1])\n",
    "ax.set_ylim([0, 1])\n",
    "ax.set_zlim([0, 1])\n",
    "\n",
    "plt.title(f'Distancia Euclidiana: {distance:.3f}')\n",
    "plt.show()"
   ]
  },
  {
   "cell_type": "markdown",
   "metadata": {},
   "source": [
    "## Distancia de Manhattan\n",
    "\n",
    "La distancia de Manhattan entre dos vectores $\\bold{x}$ y $\\bold{y}$ se define como:\n",
    "\n",
    "$$\n",
    "\\text{Distancia de Manhattan} = \\sum_{i=1}^{n} |x_i - y_i|\n",
    "$$\n",
    "\n",
    "Es la distancia \"taxicab\" entre dos puntos en el espacio euclidiano."
   ]
  },
  {
   "cell_type": "code",
   "execution_count": null,
   "metadata": {},
   "outputs": [],
   "source": [
    "import matplotlib.pyplot as plt\n",
    "import numpy as np\n",
    "from mpl_toolkits.mplot3d import Axes3D\n",
    "\n",
    "# Definimos dos vectores\n",
    "v1 = v1_unit\n",
    "v2 = v2_unit\n",
    "\n",
    "# Calculamos la distancia de Manhattan\n",
    "distance = np.sum(np.abs(v1 - v2))\n",
    "\n",
    "# Creamos una nueva figura con un tamaño específico (anchura, altura)\n",
    "fig = plt.figure(figsize=(6, 6))\n",
    "ax = fig.add_subplot(111, projection='3d')\n",
    "\n",
    "# Graficamos los vectores\n",
    "ax.quiver(0, 0, 0, v1[0], v1[1], v1[2], color='b', linestyle=\"dashed\", arrow_length_ratio=0.1)\n",
    "ax.quiver(0, 0, 0, v2[0], v2[1], v2[2], color='r', linestyle=\"dashed\", arrow_length_ratio=0.1)\n",
    "\n",
    "# Dibujamos líneas para representar la distancia de Manhattan\n",
    "ax.plot([v1[0], v2[0]], [v1[1], v1[1]], [v1[2], v1[2]], 'g', linewidth=3)\n",
    "ax.plot([v2[0], v2[0]], [v1[1], v2[1]], [v1[2], v1[2]], 'g', linewidth=3)\n",
    "ax.plot([v2[0], v2[0]], [v2[1], v2[1]], [v1[2], v2[2]], 'g', linewidth=3)\n",
    "\n",
    "# Añadimos etiquetas para los vectores\n",
    "ax.text(v1[0], v1[1], v1[2], 'v1', fontsize=12, ha='right')\n",
    "ax.text(v2[0], v2[1], v2[2], 'v2', fontsize=12, ha='right')\n",
    "\n",
    "ax.set_xlim([0, 1])\n",
    "ax.set_ylim([0, 1])\n",
    "ax.set_zlim([0, 1])\n",
    "\n",
    "plt.title(f'Distancia de Manhattan: {distance:.2f}')\n",
    "plt.show()"
   ]
  },
  {
   "cell_type": "markdown",
   "metadata": {},
   "source": [
    "## Producto escalar (o producto punto)\n",
    "\n",
    "El producto escalar entre dos vectores $\\bold{x}$ y $\\bold{y}$ se define como:\n",
    "\n",
    "$$\n",
    "\\text{Producto escalar} =  \\bold{x} \\cdot \\bold{y} = x_1 y_1 + ... + x_n y_n = \\sum_{i=1}^{n} x_i y_i\n",
    "$$"
   ]
  },
  {
   "cell_type": "code",
   "execution_count": null,
   "metadata": {},
   "outputs": [],
   "source": [
    "def dot_distance(v1, v2):\n",
    "    return sum(a * b for a, b in zip(v1, v2))\n",
    "\n",
    "dot_distance(v1_unit, v2_unit) # o np.dot(v1, v2)"
   ]
  },
  {
   "cell_type": "code",
   "execution_count": null,
   "metadata": {},
   "outputs": [],
   "source": [
    "import matplotlib.pyplot as plt\n",
    "import numpy as np\n",
    "\n",
    "def visualizar_mult_componente(v1, v2, component):\n",
    "\n",
    "    # Creamos una nueva figura con un tamaño específico (anchura, altura)\n",
    "    fig = plt.figure(figsize=(4, 6))\n",
    "\n",
    "    # Graficamos el componente de cada vector\n",
    "    plt.plot([0.00, v1[component]], [0.01, 0.01], 'b', label='v1')\n",
    "    plt.plot(v1[component], 0.01, 'bo')\n",
    "    plt.plot([0, v2[component]], [0.0, 0.0], 'r', label='v2')\n",
    "    plt.plot(v2[component], 0, 'ro')\n",
    "\n",
    "    # Visualizamos la multiplicación de los componentes\n",
    "    mult = v1[component] * v2[component]\n",
    "    plt.plot([0.0, mult], [-0.01, -0.01], 'g', label='v1 * v2')\n",
    "    plt.plot(mult, -0.01, 'go')\n",
    "    # Etiquetamos el resultado de la multiplicación\n",
    "    plt.text(mult, -0.009, f'{mult:.2f}', ha='right', fontsize=20)\n",
    "\n",
    "    # Mostramos la gráfica\n",
    "    plt.legend()\n",
    "    plt.grid()\n",
    "    plt.ylim(-0.015, 0.015)\n",
    "    plt.yticks([])\n",
    "    plt.show()\n",
    "\n",
    "visualizar_mult_componente(v1_unit, v2_unit, 0)\n",
    "visualizar_mult_componente(v1_unit, v2_unit, 1)\n",
    "visualizar_mult_componente(v1_unit, v2_unit, 2)"
   ]
  },
  {
   "cell_type": "markdown",
   "metadata": {},
   "source": [
    "### Fórmula geométrica\n",
    "\n",
    "El producto escalar también puede calcularse usando la fórmula geométrica:\n",
    "\n",
    "$$\n",
    "\\text{Producto escalar} = \\bold{x} \\cdot \\bold{y} = \\|\\bold{x}\\| \\|\\bold{y}\\| \\cos(\\theta)\n",
    "$$\n",
    "\n",
    "donde $\\theta$ es el ángulo entre los dos vectores."
   ]
  },
  {
   "cell_type": "code",
   "execution_count": null,
   "metadata": {},
   "outputs": [],
   "source": [
    "import math\n",
    "\n",
    "def plot_arc3d(vector1, vector2, radius=0.2, fig=None, colour='C0'):\n",
    "    \"\"\" Trazamos un arco entre dos vectores dados en el espacio 3D.\n",
    "    https://stackoverflow.com/questions/47321839/how-to-show-the-angle-by-an-arc-between-two-3d-vectors-in-matplotlib\n",
    "    \"\"\"\n",
    "\n",
    "    \"\"\" Confirmamos argumentos de entrada correctos \"\"\"\n",
    "    assert len(vector1) == 3\n",
    "    assert len(vector2) == 3\n",
    "\n",
    "    \"\"\" Calculamos el vector entre los puntos finales de dos vectores, y los ángulos esféricos resultantes \n",
    "        para varios puntos a lo largo de este vector. A partir de esto, derivamos puntos que se sitúan \n",
    "        a lo largo del arco entre vector1 y vector2 \"\"\"\n",
    "    v = [i-j for i, j in zip(vector1, vector2)]\n",
    "    v_points_direct = [(vector2[0]+v[0]*l, vector2[1]+v[1]*l, vector2[2]+v[2]*l) for l in np.linspace(0, 1)]\n",
    "    v_phis = [math.atan2(v_point[1], v_point[0]) for v_point in v_points_direct]\n",
    "    v_thetas = [math.acos(v_point[2]/np.linalg.norm(v_point)) for v_point in v_points_direct]\n",
    "\n",
    "    v_points_arc = [(radius*math.sin(theta)*math.cos(phi), radius*math.sin(theta)*math.sin(phi), radius*math.cos(theta))\n",
    "                    for theta, phi in zip(v_thetas, v_phis)]\n",
    "    v_points_arc.append((0, 0, 0))\n",
    "\n",
    "    if fig is None:\n",
    "        fig = plt.figure()\n",
    "        ax = fig.add_subplot(111, projection='3d')\n",
    "    else:\n",
    "        ax = fig.gca()\n",
    "\n",
    "    from mpl_toolkits.mplot3d.art3d import Poly3DCollection\n",
    "    \"\"\" Graficamos el polígono (el color de la cara debe establecerse después, de lo contrario anula la transparencia)\n",
    "        https://stackoverflow.com/questions/18897786/transparency-for-poly3dcollection-plot-in-matplotlib \"\"\"\n",
    "    points_collection = Poly3DCollection([v_points_arc], alpha=0.4)\n",
    "    points_collection.set_facecolor(colour)\n",
    "    ax.add_collection3d(points_collection)\n",
    "\n",
    "    return fig"
   ]
  },
  {
   "cell_type": "code",
   "execution_count": null,
   "metadata": {},
   "outputs": [],
   "source": [
    "import matplotlib.pyplot as plt\n",
    "import numpy as np\n",
    "from mpl_toolkits.mplot3d import Axes3D\n",
    "\n",
    "v1 = v1_unit\n",
    "v2 = v2_unit\n",
    "\n",
    "# Creamos una nueva figura con un tamaño específico (anchura, altura)\n",
    "fig = plt.figure(figsize=(6, 6))\n",
    "ax = fig.add_subplot(111, projection='3d')\n",
    "\n",
    "# Graficamos los vectores\n",
    "ax.quiver(0, 0, 0, v1[0], v1[1], v1[2], color='b', linestyle=\"solid\", arrow_length_ratio=0.1)\n",
    "ax.quiver(0, 0, 0, v2[0], v2[1], v2[2], color='r', linestyle=\"solid\", arrow_length_ratio=0.1)\n",
    "plot_arc3d(v1, v2, fig=fig, colour='g')\n",
    "\n",
    "ax.text(v1[0], v1[1], v1[2], 'v1', fontsize=12, ha='right')\n",
    "ax.text(v2[0], v2[1], v2[2], 'v2', fontsize=12, ha='right')\n",
    "\n",
    "ax.set_xlim([0, 1])\n",
    "ax.set_ylim([0, 1])\n",
    "ax.set_zlim([0, 1])\n",
    "\n",
    "plt.title(f'Producto Escalar (Geométrico): {np.dot(v1, v2):.3f}')\n",
    "plt.show()"
   ]
  },
  {
   "cell_type": "markdown",
   "metadata": {},
   "source": [
    "## Distancia del coseno\n",
    "\n",
    "$$\n",
    "\\text{Similitud del coseno} = \\frac{\\bold{x} \\cdot \\bold{y}}{\\|\\bold{x}\\| \\|\\bold{y}\\|}\n",
    "$$\n",
    "\n",
    "$$\n",
    "\\text{Distancia del coseno} = (1 - \\text{Similitud del coseno}) = 1 - \\frac{\\bold{x} \\cdot \\bold{y}}{\\|\\bold{x}\\| \\|\\bold{y}\\|}\n",
    "$$\n",
    "\n",
    "\n",
    "La distancia del coseno es el complemento del coseno del ángulo entre dos vectores en el espacio euclidiano."
   ]
  },
  {
   "cell_type": "code",
   "execution_count": null,
   "metadata": {},
   "outputs": [],
   "source": [
    "def cosine_similarity(v1, v2):\n",
    "    return np.dot(v1, v2) / (np.linalg.norm(v1) * np.linalg.norm(v2))\n",
    "\n",
    "def cosine_distance(v1, v2):\n",
    "    return 1 - cosine_similarity(v1, v2)\n",
    "\n",
    "cosine_distance(v1_unit, v2_unit)"
   ]
  },
  {
   "cell_type": "code",
   "execution_count": null,
   "metadata": {},
   "outputs": [],
   "source": [
    "from math import cos, sin\n",
    "\n",
    "\n",
    "def plot_arc3d(vector1, vector2, radius=0.2, fig=None, colour='C0'):\n",
    "    \"\"\" Trazamos un arco entre dos vectores dados en el espacio 3D.\n",
    "    https://stackoverflow.com/questions/47321839/how-to-show-the-angle-by-an-arc-between-two-3d-vectors-in-matplotlib\n",
    "    \"\"\"\n",
    "\n",
    "    \"\"\" Confirmamos argumentos de entrada correctos \"\"\"\n",
    "    assert len(vector1) == 3\n",
    "    assert len(vector2) == 3\n",
    "\n",
    "    \"\"\" Calculamos el vector entre los puntos finales de dos vectores, y los ángulos esféricos resultantes \n",
    "        para varios puntos a lo largo de este vector. A partir de esto, derivamos puntos que se sitúan \n",
    "        a lo largo del arco entre vector1 y vector2 \"\"\"\n",
    "    v = [i-j for i, j in zip(vector1, vector2)]\n",
    "    v_points_direct = [(vector2[0]+v[0]*l, vector2[1]+v[1]*l, vector2[2]+v[2]*l) for l in np.linspace(0, 1)]\n",
    "    v_phis = [math.atan2(v_point[1], v_point[0]) for v_point in v_points_direct]\n",
    "    v_thetas = [math.acos(v_point[2]/np.linalg.norm(v_point)) for v_point in v_points_direct]\n",
    "\n",
    "    v_points_arc = [(radius*sin(theta)*cos(phi), radius*sin(theta)*sin(phi), radius*cos(theta))\n",
    "                    for theta, phi in zip(v_thetas, v_phis)]\n",
    "    v_points_arc.append((0, 0, 0))\n",
    "\n",
    "    if fig is None:\n",
    "        fig = plt.figure()\n",
    "        ax = fig.add_subplot(111, projection='3d')\n",
    "    else:\n",
    "        ax = fig.gca()\n",
    "\n",
    "    from mpl_toolkits.mplot3d.art3d import Poly3DCollection\n",
    "    \"\"\" Graficamos el polígono (el color de la cara debe establecerse después, de lo contrario anula la transparencia)\n",
    "        https://stackoverflow.com/questions/18897786/transparency-for-poly3dcollection-plot-in-matplotlib \"\"\"\n",
    "    points_collection = Poly3DCollection([v_points_arc], alpha=0.4)\n",
    "    points_collection.set_facecolor(colour)\n",
    "    ax.add_collection3d(points_collection)\n",
    "\n",
    "    return fig"
   ]
  },
  {
   "cell_type": "code",
   "execution_count": null,
   "metadata": {},
   "outputs": [],
   "source": [
    "import matplotlib.pyplot as plt\n",
    "import numpy as np\n",
    "from mpl_toolkits.mplot3d import Axes3D\n",
    "\n",
    "v1 = v1_unit\n",
    "v2 = v2_unit\n",
    "\n",
    "fig = plt.figure(figsize=(6, 6))\n",
    "ax = fig.add_subplot(111, projection='3d')\n",
    "\n",
    "# Graficamos los vectores\n",
    "ax.quiver(0, 0, 0, v1[0], v1[1], v1[2], color='b', linestyle=\"solid\", arrow_length_ratio=0.1)\n",
    "ax.quiver(0, 0, 0, v2[0], v2[1], v2[2], color='r', linestyle=\"solid\", arrow_length_ratio=0.1)\n",
    "\n",
    "# Graficamos una serie de puntos para representar el ángulo entre los 2 vectores\n",
    "plot_arc3d(v1, v2, fig=fig, colour='g')\n",
    "\n",
    "ax.set_xlim([0, 1])\n",
    "ax.set_ylim([0, 1])\n",
    "ax.set_zlim([0, 1])\n",
    "\n",
    "plt.title(f'Distancia del coseno: {cosine_distance(v1, v2):.3f}')\n",
    "plt.show()"
   ]
  },
  {
   "cell_type": "markdown",
   "metadata": {},
   "source": [
    "## Distancia del coseno vs. producto escalar\n",
    "\n",
    "Para vectores unitarios, la similitud del coseno es igual al producto escalar."
   ]
  },
  {
   "cell_type": "code",
   "execution_count": null,
   "metadata": {},
   "outputs": [],
   "source": [
    "cosine_similarity(v1_unit, v2_unit) == np.dot(v1_unit, v2_unit)"
   ]
  },
  {
   "cell_type": "code",
   "execution_count": null,
   "metadata": {},
   "outputs": [],
   "source": [
    "1 - cosine_distance(v1_unit, v2_unit) == np.dot(v1_unit, v2_unit)"
   ]
  },
  {
   "cell_type": "markdown",
   "metadata": {},
   "source": [
    "## Recursos\n",
    "\n",
    "* [Two Forms of the Dot Product](https://gregorygundersen.com/blog/2018/06/26/dot-product/)\n",
    "* [Is Cosine-Similarity of Embeddings Really About Similarity?](https://arxiv.org/html/2403.05440v1)"
   ]
  }
 ],
 "metadata": {
  "kernelspec": {
   "display_name": "Python 3",
   "language": "python",
   "name": "python3"
  },
  "language_info": {
   "codemirror_mode": {
    "name": "ipython",
    "version": 3
   },
   "file_extension": ".py",
   "mimetype": "text/x-python",
   "name": "python",
   "nbconvert_exporter": "python",
   "pygments_lexer": "ipython3",
   "version": "3.11.11"
  }
 },
 "nbformat": 4,
 "nbformat_minor": 2
}
