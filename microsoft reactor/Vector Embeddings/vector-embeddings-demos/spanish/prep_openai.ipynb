{
 "cells": [
  {
   "cell_type": "markdown",
   "metadata": {},
   "source": [
    "# Preparar embeddings de OpenAI\n",
    "\n",
    "Este notebook utiliza modelos de OpenAI para generar embeddings para un conjunto de palabras comunes en español."
   ]
  },
  {
   "cell_type": "code",
   "execution_count": null,
   "metadata": {},
   "outputs": [],
   "source": [
    "import csv\n",
    "import logging\n",
    "import json\n",
    "import os\n",
    "\n",
    "from azure.identity import AzureCliCredential, get_bearer_token_provider\n",
    "import openai\n",
    "import dotenv\n",
    "\n",
    "logging.basicConfig(level=logging.INFO)\n",
    "dotenv.load_dotenv()\n",
    "\n",
    "# configuramos openai\n",
    "AZURE_OPENAI_ENDPOINT = os.getenv(\"AZURE_OPENAI_ENDPOINT\")\n",
    "AZURE_OPENAI_EMBEDDING_DEPLOYMENT = os.getenv(\"AZURE_OPENAI_EMBEDDING_DEPLOYMENT\")\n",
    "AZURE_OPENAI_EMBEDDING_DIMENSIONS = os.getenv(\"AZURE_OPENAI_EMBEDDING_DIMENSIONS\") \n",
    "azure_credential = AzureCliCredential()\n",
    "token_provider = get_bearer_token_provider(azure_credential, \"https://cognitiveservices.azure.com/.default\")\n",
    "openai_client = openai.AzureOpenAI(\n",
    "    api_version=\"2023-05-15\",\n",
    "    azure_endpoint=AZURE_OPENAI_ENDPOINT,\n",
    "    azure_ad_token_provider=token_provider,\n",
    ")\n",
    "\n",
    "def get_embeddings(words):\n",
    "    \"\"\"Calculate embeddings using OpenAI in a batch (all words at once)\"\"\"\n",
    "    word_vectors = {}\n",
    "    dimensions_args = (\n",
    "        {\"dimensions\": int(AZURE_OPENAI_EMBEDDING_DIMENSIONS)}\n",
    "        if AZURE_OPENAI_EMBEDDING_DIMENSIONS\n",
    "        else {}\n",
    "    )\n",
    "\n",
    "    embeddings_response = openai_client.embeddings.create(\n",
    "        model=AZURE_OPENAI_EMBEDDING_DEPLOYMENT,\n",
    "        input=words,\n",
    "        **dimensions_args\n",
    "    )\n",
    "    for word, embedding_object in zip(words, embeddings_response.data):\n",
    "        word_vectors[word] = embedding_object.embedding\n",
    "    return word_vectors"
   ]
  },
  {
   "cell_type": "code",
   "execution_count": null,
   "metadata": {},
   "outputs": [],
   "source": [
    "# abrimos el archivo de peliculas\n",
    "# calculamos embeddings de las peliculas\n",
    "from tqdm import tqdm\n",
    "\n",
    "new_movie_vectors = {}\n",
    "with open(\"embeddings/peliculas_text-embedding-ada-002.json\") as f:\n",
    "    disney_vectors = json.load(f)\n",
    "    for movie, embedding in tqdm(disney_vectors.items(), desc=\"Computing new embeddings\"):\n",
    "        new_movie_vectors[movie] = get_embeddings([movie])[movie]\n",
    "# Write new embeddings to openai_movies\n",
    "filename = f\"embeddings/openai_peliculas_{AZURE_OPENAI_EMBEDDING_DEPLOYMENT}-{AZURE_OPENAI_EMBEDDING_DIMENSIONS}.json\"\n",
    "with open(filename, \"w\") as f:\n",
    "    json.dump(new_movie_vectors, f, indent=4)"
   ]
  },
  {
   "cell_type": "code",
   "execution_count": null,
   "metadata": {},
   "outputs": [],
   "source": [
    "# abrimos sustanivos csv\n",
    "words = []\n",
    "with open('embeddings/sustantivos-mas-usados.csv') as f:\n",
    "    reader = csv.reader(f)\n",
    "    next(reader)\n",
    "    for row in reader:\n",
    "        words.append(row[0])\n",
    "\n",
    "# y calculamos embeddings\n",
    "word_vectors = get_embeddings(words)\n",
    "\n",
    "# guardamos los embeddings en un archivo\n",
    "filename = f\"embeddings/sustantivos2_{AZURE_OPENAI_EMBEDDING_DEPLOYMENT}-{AZURE_OPENAI_EMBEDDING_DIMENSIONS}.json\"\n",
    "\n",
    "with open(filename, 'w') as f:\n",
    "    json.dump(word_vectors, f, indent=4)\n"
   ]
  }
 ],
 "metadata": {
  "kernelspec": {
   "display_name": "Python 3",
   "language": "python",
   "name": "python3"
  },
  "language_info": {
   "codemirror_mode": {
    "name": "ipython",
    "version": 3
   },
   "file_extension": ".py",
   "mimetype": "text/x-python",
   "name": "python",
   "nbconvert_exporter": "python",
   "pygments_lexer": "ipython3",
   "version": "3.11.11"
  }
 },
 "nbformat": 4,
 "nbformat_minor": 2
}
