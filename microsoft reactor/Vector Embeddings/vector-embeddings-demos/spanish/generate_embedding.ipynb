{
 "cells": [
  {
   "cell_type": "markdown",
   "metadata": {},
   "source": [
    "# Generar embeddings con el OpenAI SDK"
   ]
  },
  {
   "cell_type": "markdown",
   "metadata": {},
   "source": [
    "## Configurar el AzureOpenAI client\n",
    "\n",
    "Ejecuta la celda de abajo si estás utilizando Azure OpenAI keyless auth y ya has configurado un archivo .env con las variables requeridas."
   ]
  },
  {
   "cell_type": "code",
   "execution_count": null,
   "metadata": {},
   "outputs": [],
   "source": [
    "import os\n",
    "\n",
    "from azure.identity import AzureCliCredential, get_bearer_token_provider\n",
    "import dotenv\n",
    "import openai\n",
    "\n",
    "dotenv.load_dotenv()\n",
    "\n",
    "azure_credential = AzureCliCredential()\n",
    "token_provider = get_bearer_token_provider(azure_credential, \"https://cognitiveservices.azure.com/.default\")\n",
    "openai_client = openai.AzureOpenAI(\n",
    "    api_version=\"2024-10-21\",\n",
    "    azure_endpoint=os.getenv(\"AZURE_OPENAI_ENDPOINT\"),\n",
    "    azure_ad_token_provider=token_provider,\n",
    ")\n",
    "MODEL_NAME = os.getenv(\"AZURE_OPENAI_EMBEDDING_DEPLOYMENT\")\n",
    "MODEL_DIMENSIONS = os.getenv(\"AZURE_OPENAI_EMBEDDING_DIMENSIONS\")\n"
   ]
  },
  {
   "cell_type": "markdown",
   "metadata": {},
   "source": [
    "## Configurar el OpenAI client con GitHub Models\n",
    "\n",
    "Ejecuta la celda de abajo si estás utilizando OpenAI con GitHub Models. Si estás ejecutando esto en GitHub Codespaces, la variable de entorno GITHUB_TOKEN ya estará configurada para ti. Si estás ejecutando esto localmente, asegúrate de configurar la variable de entorno GITHUB_TOKEN con un Token de Acceso Personal (PAT) de GitHub."
   ]
  },
  {
   "cell_type": "code",
   "execution_count": null,
   "metadata": {},
   "outputs": [],
   "source": [
    "import os\n",
    "import openai\n",
    "\n",
    "openai_client = openai.OpenAI(\n",
    "    base_url=\"https://models.inference.ai.azure.com\",\n",
    "    api_key=os.environ[\"GITHUB_TOKEN\"]\n",
    ")\n",
    "MODEL_NAME = \"text-embedding-3-small\"\n",
    "MODEL_DIMENSIONS = 1536"
   ]
  },
  {
   "cell_type": "code",
   "execution_count": null,
   "metadata": {},
   "outputs": [],
   "source": [
    "embeddings_response = openai_client.embeddings.create(\n",
    "    model=MODEL_NAME,\n",
    "    dimensions=MODEL_DIMENSIONS,\n",
    "    input=\"hola mundo\",\n",
    ")\n",
    "embedding = embeddings_response.data[0].embedding\n",
    "\n",
    "print(len(embedding))\n",
    "print(embedding)"
   ]
  }
 ],
 "metadata": {
  "kernelspec": {
   "display_name": "Python 3",
   "language": "python",
   "name": "python3"
  },
  "language_info": {
   "codemirror_mode": {
    "name": "ipython",
    "version": 3
   },
   "file_extension": ".py",
   "mimetype": "text/x-python",
   "name": "python",
   "nbconvert_exporter": "python",
   "pygments_lexer": "ipython3",
   "version": "3.11.11"
  }
 },
 "nbformat": 4,
 "nbformat_minor": 2
}
